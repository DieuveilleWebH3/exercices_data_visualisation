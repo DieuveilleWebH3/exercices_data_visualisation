{
 "cells": [
  {
   "cell_type": "markdown",
   "metadata": {},
   "source": [
    "# Numpy exercices pratiques\n",
    "Ce notebook à pour objectif de vous faire pratiquer numpy dans toute sa généralité. \n",
    "Vous avez donc une liste de questions à faire ! Il ne faut pas hésiter à faire des recherches sur google ainsi que voir la [documentation officielle](https://docs.scipy.org/doc/numpy-1.13.0/reference/). "
   ]
  },
  {
   "cell_type": "markdown",
   "metadata": {},
   "source": [
    "#### Q1 : Importer le package numpy "
   ]
  },
  {
   "cell_type": "code",
   "execution_count": 53,
   "metadata": {},
   "outputs": [],
   "source": [
    "import numpy as np"
   ]
  },
  {
   "cell_type": "markdown",
   "metadata": {},
   "source": [
    "#### Q2 : Afficher la version de numpy et la configuration "
   ]
  },
  {
   "cell_type": "code",
   "execution_count": 10,
   "metadata": {},
   "outputs": [
    {
     "name": "stdout",
     "output_type": "stream",
     "text": [
      "1.20.3\n",
      "blas_mkl_info:\n",
      "    libraries = ['mkl_rt']\n",
      "    library_dirs = ['C:/Users/USER/anaconda3/envs/my_venv\\\\Library\\\\lib']\n",
      "    define_macros = [('SCIPY_MKL_H', None), ('HAVE_CBLAS', None)]\n",
      "    include_dirs = ['C:/Users/USER/anaconda3/envs/my_venv\\\\Library\\\\include']\n",
      "blas_opt_info:\n",
      "    libraries = ['mkl_rt']\n",
      "    library_dirs = ['C:/Users/USER/anaconda3/envs/my_venv\\\\Library\\\\lib']\n",
      "    define_macros = [('SCIPY_MKL_H', None), ('HAVE_CBLAS', None)]\n",
      "    include_dirs = ['C:/Users/USER/anaconda3/envs/my_venv\\\\Library\\\\include']\n",
      "lapack_mkl_info:\n",
      "    libraries = ['mkl_rt']\n",
      "    library_dirs = ['C:/Users/USER/anaconda3/envs/my_venv\\\\Library\\\\lib']\n",
      "    define_macros = [('SCIPY_MKL_H', None), ('HAVE_CBLAS', None)]\n",
      "    include_dirs = ['C:/Users/USER/anaconda3/envs/my_venv\\\\Library\\\\include']\n",
      "lapack_opt_info:\n",
      "    libraries = ['mkl_rt']\n",
      "    library_dirs = ['C:/Users/USER/anaconda3/envs/my_venv\\\\Library\\\\lib']\n",
      "    define_macros = [('SCIPY_MKL_H', None), ('HAVE_CBLAS', None)]\n",
      "    include_dirs = ['C:/Users/USER/anaconda3/envs/my_venv\\\\Library\\\\include']\n",
      "None\n"
     ]
    }
   ],
   "source": [
    "print(np.__version__)\n",
    "print(np.show_config())"
   ]
  },
  {
   "cell_type": "markdown",
   "metadata": {},
   "source": [
    "#### Q3 : Créer un vecteur nul de taille 10"
   ]
  },
  {
   "cell_type": "code",
   "execution_count": 7,
   "metadata": {},
   "outputs": [],
   "source": [
    "v = np.zeros(10)"
   ]
  },
  {
   "cell_type": "code",
   "execution_count": 8,
   "metadata": {},
   "outputs": [
    {
     "data": {
      "text/plain": [
       "array([0., 0., 0., 0., 0., 0., 0., 0., 0., 0.])"
      ]
     },
     "execution_count": 8,
     "metadata": {},
     "output_type": "execute_result"
    }
   ],
   "source": [
    "v"
   ]
  },
  {
   "cell_type": "markdown",
   "metadata": {},
   "source": [
    "#### Q4 : Créer un vecteur null de taille 10 et affecter la valeur 1 à la 4ème place (index 4) du vecteur"
   ]
  },
  {
   "cell_type": "code",
   "execution_count": 5,
   "metadata": {},
   "outputs": [],
   "source": [
    "v = np.zeros(10)\n",
    "v[4] = 1"
   ]
  },
  {
   "cell_type": "code",
   "execution_count": 6,
   "metadata": {},
   "outputs": [
    {
     "data": {
      "text/plain": [
       "array([0., 0., 0., 0., 1., 0., 0., 0., 0., 0.])"
      ]
     },
     "execution_count": 6,
     "metadata": {},
     "output_type": "execute_result"
    }
   ],
   "source": [
    "v"
   ]
  },
  {
   "cell_type": "markdown",
   "metadata": {},
   "source": [
    "#### Q5 : Créer un vecteur Z de 40 valeurs allant de 10 à 50 "
   ]
  },
  {
   "cell_type": "code",
   "execution_count": 35,
   "metadata": {},
   "outputs": [
    {
     "name": "stdout",
     "output_type": "stream",
     "text": [
      "[10.         11.02564103 12.05128205 13.07692308 14.1025641  15.12820513\n",
      " 16.15384615 17.17948718 18.20512821 19.23076923 20.25641026 21.28205128\n",
      " 22.30769231 23.33333333 24.35897436 25.38461538 26.41025641 27.43589744\n",
      " 28.46153846 29.48717949 30.51282051 31.53846154 32.56410256 33.58974359\n",
      " 34.61538462 35.64102564 36.66666667 37.69230769 38.71794872 39.74358974\n",
      " 40.76923077 41.79487179 42.82051282 43.84615385 44.87179487 45.8974359\n",
      " 46.92307692 47.94871795 48.97435897 50.        ]\n"
     ]
    }
   ],
   "source": [
    "\n",
    "# z = np.random.random(40)\n",
    "\n",
    "# z = np.linspace(10,50,42,endpoint=True)[1:-1]\n",
    "# print(z)\n",
    "\n",
    "z = np.linspace(10,50,40)\n",
    "\n",
    "print(z)\n"
   ]
  },
  {
   "cell_type": "markdown",
   "metadata": {},
   "source": [
    "#### Q6 : Inverser Z (le premier élément devient donc le dernier)"
   ]
  },
  {
   "cell_type": "code",
   "execution_count": 36,
   "metadata": {},
   "outputs": [
    {
     "name": "stdout",
     "output_type": "stream",
     "text": [
      "[10.         11.02564103 12.05128205 13.07692308 14.1025641  15.12820513\n",
      " 16.15384615 17.17948718 18.20512821 19.23076923 20.25641026 21.28205128\n",
      " 22.30769231 23.33333333 24.35897436 25.38461538 26.41025641 27.43589744\n",
      " 28.46153846 29.48717949 30.51282051 31.53846154 32.56410256 33.58974359\n",
      " 34.61538462 35.64102564 36.66666667 37.69230769 38.71794872 39.74358974\n",
      " 40.76923077 41.79487179 42.82051282 43.84615385 44.87179487 45.8974359\n",
      " 46.92307692 47.94871795 48.97435897 50.        ]\n",
      "\n",
      "\n",
      "[50.         48.97435897 47.94871795 46.92307692 45.8974359  44.87179487\n",
      " 43.84615385 42.82051282 41.79487179 40.76923077 39.74358974 38.71794872\n",
      " 37.69230769 36.66666667 35.64102564 34.61538462 33.58974359 32.56410256\n",
      " 31.53846154 30.51282051 29.48717949 28.46153846 27.43589744 26.41025641\n",
      " 25.38461538 24.35897436 23.33333333 22.30769231 21.28205128 20.25641026\n",
      " 19.23076923 18.20512821 17.17948718 16.15384615 15.12820513 14.1025641\n",
      " 13.07692308 12.05128205 11.02564103 10.        ]\n"
     ]
    }
   ],
   "source": [
    "print(z)\n",
    "print()\n",
    "\n",
    "# z = z[::-1]\n",
    "z = np.flipud(z)\n",
    "\n",
    "print()\n",
    "print(z)"
   ]
  },
  {
   "cell_type": "markdown",
   "metadata": {},
   "source": [
    "#### Q7 : Créer une matrice 3x3 avec des valeurs comprise entre 0 et 8 "
   ]
  },
  {
   "cell_type": "code",
   "execution_count": 37,
   "metadata": {},
   "outputs": [
    {
     "name": "stdout",
     "output_type": "stream",
     "text": [
      "[[0 1 2]\n",
      " [3 4 5]\n",
      " [6 7 8]]\n"
     ]
    }
   ],
   "source": [
    "m =  np.arange(0, 9).reshape(3,3)\n",
    "print(m)"
   ]
  },
  {
   "cell_type": "markdown",
   "metadata": {},
   "source": [
    "#### Q8 : Créer une matrice identité 3x3 "
   ]
  },
  {
   "cell_type": "code",
   "execution_count": 49,
   "metadata": {},
   "outputs": [
    {
     "name": "stdout",
     "output_type": "stream",
     "text": [
      "[[1. 0. 0.]\n",
      " [0. 1. 0.]\n",
      " [0. 0. 1.]]\n"
     ]
    }
   ],
   "source": [
    "matr_identit = np.identity(3)\n",
    "print(matr_identit)"
   ]
  },
  {
   "cell_type": "code",
   "execution_count": 50,
   "metadata": {},
   "outputs": [
    {
     "name": "stdout",
     "output_type": "stream",
     "text": [
      "[[1. 0. 0.]\n",
      " [0. 1. 0.]\n",
      " [0. 0. 1.]]\n"
     ]
    }
   ],
   "source": [
    "matr_identit = np.eye(3)\n",
    "print(matr_identit)"
   ]
  },
  {
   "cell_type": "markdown",
   "metadata": {},
   "source": [
    "#### Q9 : Créer une matrice 3x3x3 avec des valeurs random "
   ]
  },
  {
   "cell_type": "code",
   "execution_count": 51,
   "metadata": {
    "scrolled": true
   },
   "outputs": [
    {
     "name": "stdout",
     "output_type": "stream",
     "text": [
      "[2.80330773 1.29688751 1.81203692]\n"
     ]
    }
   ],
   "source": [
    "m = np.random.uniform((3,3,3))  # prob wrong \n",
    "print(m)"
   ]
  },
  {
   "cell_type": "code",
   "execution_count": 52,
   "metadata": {},
   "outputs": [
    {
     "name": "stdout",
     "output_type": "stream",
     "text": [
      "[[[0.28598273 0.18802036 0.73824093]\n",
      "  [0.64505217 0.79848065 0.72020147]\n",
      "  [0.7878804  0.55977618 0.46904402]]\n",
      "\n",
      " [[0.42083561 0.92138761 0.42045024]\n",
      "  [0.27194696 0.63630662 0.78221781]\n",
      "  [0.68559634 0.46024427 0.26891266]]\n",
      "\n",
      " [[0.08065054 0.69662209 0.37058605]\n",
      "  [0.04932411 0.32470226 0.88709269]\n",
      "  [0.65230188 0.02787301 0.02393409]]]\n"
     ]
    }
   ],
   "source": [
    "m = np.random.random((3,3,3))\n",
    "print(m)"
   ]
  },
  {
   "cell_type": "markdown",
   "metadata": {},
   "source": [
    "#### Q10 : Créer une matrice 10x10 avec des valeurs random et afficher le minimum et maximum de cette matrice"
   ]
  },
  {
   "cell_type": "code",
   "execution_count": 47,
   "metadata": {},
   "outputs": [
    {
     "name": "stdout",
     "output_type": "stream",
     "text": [
      "[[0.22187493 0.80325069 0.47885466 0.84182448 0.97155112 0.36694352\n",
      "  0.47858079 0.15659534 0.09574882 0.47192296]\n",
      " [0.61499809 0.75192858 0.88758304 0.56817447 0.9657721  0.3066055\n",
      "  0.84988504 0.86088673 0.0798066  0.97554113]\n",
      " [0.7719953  0.07873802 0.21001063 0.83175223 0.87796816 0.22055806\n",
      "  0.57747634 0.77221822 0.48374879 0.41712973]\n",
      " [0.06639023 0.27239351 0.81642989 0.52526401 0.23892693 0.72625293\n",
      "  0.47186278 0.02387946 0.42200708 0.23919096]\n",
      " [0.9333717  0.21340763 0.55024897 0.34181765 0.14964821 0.94440308\n",
      "  0.02954494 0.9190843  0.34383945 0.8905153 ]\n",
      " [0.87102165 0.28693969 0.98180083 0.75537738 0.80426294 0.9123109\n",
      "  0.79110207 0.96171054 0.27564589 0.63437599]\n",
      " [0.68531598 0.39366092 0.71388456 0.53563698 0.86850166 0.13585194\n",
      "  0.67950423 0.40308732 0.0844244  0.47612013]\n",
      " [0.35993036 0.54861557 0.38160326 0.70846269 0.43747877 0.2092024\n",
      "  0.14875235 0.75300087 0.85714771 0.65317964]\n",
      " [0.63587272 0.88877153 0.05354179 0.80944331 0.15408173 0.36784721\n",
      "  0.66526498 0.81779561 0.4296612  0.87195462]\n",
      " [0.9897981  0.9133047  0.13228732 0.38528455 0.12789345 0.90068268\n",
      "  0.23145307 0.28994897 0.30183901 0.41958708]]\n",
      "\n",
      "\n",
      "0.023879457738152143 0.9897980973936832\n"
     ]
    }
   ],
   "source": [
    "m = np.random.random((10,10))\n",
    "mat_min, mat_max = m.min(), m.max()\n",
    "print(m)\n",
    "print()\n",
    "print()\n",
    "print(mat_min, mat_max)\n"
   ]
  },
  {
   "cell_type": "markdown",
   "metadata": {},
   "source": [
    "#### Q11 : Créer une matrice 5x5 avec les valeurs 1,2,3,4 en dessous de la diagonale "
   ]
  },
  {
   "cell_type": "code",
   "execution_count": 48,
   "metadata": {},
   "outputs": [
    {
     "name": "stdout",
     "output_type": "stream",
     "text": [
      "[[0 0 0 0 0]\n",
      " [1 0 0 0 0]\n",
      " [0 2 0 0 0]\n",
      " [0 0 3 0 0]\n",
      " [0 0 0 4 0]]\n"
     ]
    }
   ],
   "source": [
    "m = np.diag(1+np.arange(4), k=-1)\n",
    "print(m)"
   ]
  },
  {
   "cell_type": "markdown",
   "metadata": {},
   "source": [
    "#### Q12 : Créer une liste random de taille 5 et donner la somme de ses éléments  "
   ]
  },
  {
   "cell_type": "code",
   "execution_count": 59,
   "metadata": {},
   "outputs": [
    {
     "name": "stdout",
     "output_type": "stream",
     "text": [
      "[0.55388958 0.07283694 0.69478944 0.56546476 0.96032767]\n",
      "\n",
      "\n",
      "0.0728369448509133 0.960327669702718\n"
     ]
    }
   ],
   "source": [
    "x = np.random.random((5))\n",
    "print(x)\n",
    "print() \n",
    "xmin, xmax = x.min(), x.max()\n",
    "print()\n",
    "print(xmin, xmax)"
   ]
  },
  {
   "cell_type": "code",
   "execution_count": 60,
   "metadata": {},
   "outputs": [
    {
     "name": "stdout",
     "output_type": "stream",
     "text": [
      "[[0.09284667 0.72379837 0.80983496 0.91417589 0.15334455]\n",
      " [0.63545256 0.89182204 0.20478973 0.7475273  0.55233007]\n",
      " [0.68778703 0.41865439 0.53659136 0.83193853 0.38706584]\n",
      " [0.27551841 0.43284098 0.05048147 0.58113397 0.30731307]\n",
      " [0.42878146 0.33089053 0.32977745 0.087201   0.69352017]]\n",
      "\n",
      "\n",
      "0.05048146517056118 0.9141758893392323\n"
     ]
    }
   ],
   "source": [
    "x = np.random.random((5,5))\n",
    "print(x)\n",
    "print() \n",
    "xmin, xmax = x.min(), x.max()\n",
    "print()\n",
    "print(xmin, xmax)"
   ]
  },
  {
   "cell_type": "markdown",
   "metadata": {},
   "source": [
    "#### Q13 : Créer une liste random de taille 5 et donner la moyenne de ses éléments"
   ]
  },
  {
   "cell_type": "code",
   "execution_count": 75,
   "metadata": {},
   "outputs": [
    {
     "name": "stdout",
     "output_type": "stream",
     "text": [
      "[0.38599397 0.01419807 0.95674571 0.75255594 0.73860059]\n",
      "\n",
      "\n",
      "0.56961885878272\n",
      "\n",
      "0.56961885878272\n"
     ]
    }
   ],
   "source": [
    "my_list = np.random.random((5))\n",
    "print(my_list)\n",
    "print() \n",
    "\n",
    "my_mean = np.mean(my_list) \n",
    "print()\n",
    "print(my_mean)\n",
    "print()\n",
    "\n",
    "my_average = np.average(my_list)\n",
    "print(my_average) "
   ]
  },
  {
   "cell_type": "markdown",
   "metadata": {},
   "source": [
    "#### Q14 : En utilisant une fonction, donner la taille de la liste suivante :\n",
    "```python \n",
    "l = [x for x in range(11)]\n",
    "```"
   ]
  },
  {
   "cell_type": "code",
   "execution_count": 76,
   "metadata": {},
   "outputs": [
    {
     "name": "stdout",
     "output_type": "stream",
     "text": [
      "11\n"
     ]
    }
   ],
   "source": [
    "l = [x for x in range(11)]\n",
    "\n",
    "print(len(l)) "
   ]
  },
  {
   "cell_type": "markdown",
   "metadata": {},
   "source": [
    "#### Q15 : Créer un tableau de taille 10 avec des valeurs comprises entre 0 et 1 EXCLUS "
   ]
  },
  {
   "cell_type": "code",
   "execution_count": 77,
   "metadata": {},
   "outputs": [
    {
     "name": "stdout",
     "output_type": "stream",
     "text": [
      "[0.  0.1 0.2 0.3 0.4 0.5 0.6 0.7 0.8 0.9]\n"
     ]
    }
   ],
   "source": [
    "t = np.linspace(0,1,11,endpoint=True)[:-1]\n",
    "print(t) "
   ]
  },
  {
   "cell_type": "markdown",
   "metadata": {},
   "source": [
    "#### Q16 : Soit deux tableau A et B de dimension 1 et de taille 5, créer A et B et afficher True si A et B sont égaux False sinon"
   ]
  },
  {
   "cell_type": "code",
   "execution_count": null,
   "metadata": {},
   "outputs": [],
   "source": []
  },
  {
   "cell_type": "markdown",
   "metadata": {},
   "source": [
    "#### Q17 : Convertir un tableau de float32 de dimension 1 et de taille 10 en un tableau de meme taille et dimension mais de type int32"
   ]
  },
  {
   "cell_type": "code",
   "execution_count": null,
   "metadata": {},
   "outputs": [],
   "source": []
  },
  {
   "cell_type": "markdown",
   "metadata": {},
   "source": [
    "#### Q18 : Normaliser une matrice random 5x5 \n",
    "La normalisation d'un nombre X consiste à lui retirer sa moyenne et a diviser le tout par son écart type "
   ]
  },
  {
   "cell_type": "code",
   "execution_count": null,
   "metadata": {},
   "outputs": [],
   "source": []
  },
  {
   "cell_type": "markdown",
   "metadata": {},
   "source": [
    "#### Q19 : Créer une matrice random `M` 2x2 et donner sa transposer \n",
    "L'opération de transposition dans une matrice consiste à échanger les lignes et le colonnes. "
   ]
  },
  {
   "cell_type": "code",
   "execution_count": null,
   "metadata": {},
   "outputs": [],
   "source": []
  },
  {
   "cell_type": "markdown",
   "metadata": {},
   "source": [
    "#### Q20 : Écrire un petit script qui remplace un élément au hasard dans une matrice de dimension NxN"
   ]
  },
  {
   "cell_type": "code",
   "execution_count": null,
   "metadata": {},
   "outputs": [],
   "source": []
  },
  {
   "cell_type": "markdown",
   "metadata": {},
   "source": [
    "#### Q21 : Considérons une matrice de dimension (5,5,3), écrire un script qui multiplie cette matrice par une matrice de dimension (5,5)"
   ]
  },
  {
   "cell_type": "code",
   "execution_count": null,
   "metadata": {},
   "outputs": [],
   "source": []
  }
 ],
 "metadata": {
  "kernelspec": {
   "display_name": "Python 3 (ipykernel)",
   "language": "python",
   "name": "python3"
  },
  "language_info": {
   "codemirror_mode": {
    "name": "ipython",
    "version": 3
   },
   "file_extension": ".py",
   "mimetype": "text/x-python",
   "name": "python",
   "nbconvert_exporter": "python",
   "pygments_lexer": "ipython3",
   "version": "3.8.11"
  },
  "latex_envs": {
   "LaTeX_envs_menu_present": true,
   "autoclose": false,
   "autocomplete": true,
   "bibliofile": "biblio.bib",
   "cite_by": "apalike",
   "current_citInitial": 1,
   "eqLabelWithNumbers": true,
   "eqNumInitial": 1,
   "hotkeys": {
    "equation": "Ctrl-E",
    "itemize": "Ctrl-I"
   },
   "labels_anchors": false,
   "latex_user_defs": false,
   "report_style_numbering": false,
   "user_envs_cfg": false
  },
  "toc": {
   "base_numbering": 1,
   "nav_menu": {},
   "number_sections": true,
   "sideBar": true,
   "skip_h1_title": false,
   "title_cell": "Table of Contents",
   "title_sidebar": "Contents",
   "toc_cell": false,
   "toc_position": {},
   "toc_section_display": true,
   "toc_window_display": false
  },
  "varInspector": {
   "cols": {
    "lenName": 16,
    "lenType": 16,
    "lenVar": 40
   },
   "kernels_config": {
    "python": {
     "delete_cmd_postfix": "",
     "delete_cmd_prefix": "del ",
     "library": "var_list.py",
     "varRefreshCmd": "print(var_dic_list())"
    },
    "r": {
     "delete_cmd_postfix": ") ",
     "delete_cmd_prefix": "rm(",
     "library": "var_list.r",
     "varRefreshCmd": "cat(var_dic_list()) "
    }
   },
   "types_to_exclude": [
    "module",
    "function",
    "builtin_function_or_method",
    "instance",
    "_Feature"
   ],
   "window_display": false
  }
 },
 "nbformat": 4,
 "nbformat_minor": 2
}
